{
 "cells": [
  {
   "cell_type": "code",
   "execution_count": 1,
   "id": "3042de7f",
   "metadata": {},
   "outputs": [
    {
     "name": "stdout",
     "output_type": "stream",
     "text": [
      "Twinkle, twinkle, little star,\n",
      "        How I wonder, what you are!\n",
      "              Up above the world so high,\n",
      "              Like as diamond in the sky.\n",
      "Twinkle, twinkle, little star,\n",
      "        How I wonder, what you are\n"
     ]
    }
   ],
   "source": [
    "\"\"\"1.)Write a Python program to print the following string in a specific format (see the \n",
    "output).\"\"\"\n",
    "# Twinkle, twinkle, little star, \n",
    "#         How I wonder what you are! \n",
    "#               Up above the world so high, \n",
    "#               Like a diamond in the sky. \n",
    "# Twinkle, twinkle, little star, \n",
    "#         How I wonder what you are\"\"\"\n",
    "\n",
    "poem = \"Twinkle, twinkle, little star,\"; \n",
    "poem1 = \"        How I wonder, what you are!\";\n",
    "poem2 = \"              Up above the world so high,\";\n",
    "poem3 = \"              Like as diamond in the sky.\";\n",
    "poem4 = \"        How I wonder, what you are\";\n",
    "print(poem);\n",
    "print(poem1);\n",
    "print(poem2);\n",
    "print(poem3);\n",
    "print(poem);\n",
    "print(poem4);\n"
   ]
  },
  {
   "cell_type": "code",
   "execution_count": 3,
   "id": "6ad5d60b",
   "metadata": {},
   "outputs": [
    {
     "name": "stdout",
     "output_type": "stream",
     "text": [
      "3.8.8 (default, Apr 13 2021, 15:08:03) [MSC v.1916 64 bit (AMD64)]\n"
     ]
    }
   ],
   "source": [
    "# 2.)Write a Python program to get the Python version you are using \n",
    "import sys;\n",
    "print(sys.version);"
   ]
  },
  {
   "cell_type": "code",
   "execution_count": 2,
   "id": "c774bdf1",
   "metadata": {},
   "outputs": [
    {
     "name": "stdout",
     "output_type": "stream",
     "text": [
      "2022-01-01 22:16:00.976076\n"
     ]
    }
   ],
   "source": [
    "# 3.)Write a Python program to display the current date and time. \n",
    "import datetime;\n",
    "current_date_and_time = datetime.datetime.now();\n",
    "print(current_date_and_time);\n"
   ]
  },
  {
   "cell_type": "code",
   "execution_count": 7,
   "id": "86700b35",
   "metadata": {},
   "outputs": [
    {
     "name": "stdout",
     "output_type": "stream",
     "text": [
      "Radius of a Circle9\n",
      "254.57142857142858\n"
     ]
    }
   ],
   "source": [
    "\"\"\"4.)Write a Python program which accepts the radius of a circle from the user and compute \n",
    "the area.\"\"\" \n",
    "radius = int(input(\"Radius of a Circle\"));\n",
    "area_of_a_circle = radius*radius*22/7\n",
    "print(area_of_a_circle);"
   ]
  },
  {
   "cell_type": "code",
   "execution_count": 3,
   "id": "a235bcc2",
   "metadata": {},
   "outputs": [
    {
     "name": "stdout",
     "output_type": "stream",
     "text": [
      "First NameWahaj\n",
      "Last NameKhan\n",
      "n a h K   j a h a W\n"
     ]
    }
   ],
   "source": [
    "\"\"\"5.)Write a Python program which accepts the user's first and last name and print them in \n",
    "reverse order with a space between them.\"\"\"\n",
    "first_name = input(\"First Name\");\n",
    "last_name = input(\"Last Name\");\n",
    "\"\"\"Conversion of first_name and last_name into list\n",
    "and reversing the output by using reversed function\"\"\"\n",
    "name =list (reversed(first_name +\" \"+ last_name));\n",
    "# conversion of list to string\n",
    "reverse_name=' '.join(map(str,name))\n",
    "print(reverse_name);\n"
   ]
  },
  {
   "cell_type": "code",
   "execution_count": 10,
   "id": "eb417844",
   "metadata": {},
   "outputs": [
    {
     "name": "stdout",
     "output_type": "stream",
     "text": [
      "First Number52\n",
      "Second Number62\n",
      "114\n"
     ]
    }
   ],
   "source": [
    "# 6.)Write a python program which takes two inputs from user and print them addition \n",
    "x = int(input(\"First Number\"));\n",
    "y = int(input(\"Second Number\"));\n",
    "z = x + y;\n",
    "print(z);"
   ]
  }
 ],
 "metadata": {
  "kernelspec": {
   "display_name": "Python 3",
   "language": "python",
   "name": "python3"
  },
  "language_info": {
   "codemirror_mode": {
    "name": "ipython",
    "version": 3
   },
   "file_extension": ".py",
   "mimetype": "text/x-python",
   "name": "python",
   "nbconvert_exporter": "python",
   "pygments_lexer": "ipython3",
   "version": "3.8.8"
  }
 },
 "nbformat": 4,
 "nbformat_minor": 5
}
