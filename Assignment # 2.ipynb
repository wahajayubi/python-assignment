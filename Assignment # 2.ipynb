{
 "cells": [
  {
   "cell_type": "code",
   "execution_count": 8,
   "id": "69c2620e",
   "metadata": {},
   "outputs": [
    {
     "name": "stdout",
     "output_type": "stream",
     "text": [
      "Total Marks 300 Marks Obtained 255 Percentage 85.0 %\n"
     ]
    }
   ],
   "source": [
    "total_marks = 300\n",
    "english_marks = 78\n",
    "islamyat_marks = 82\n",
    "math_marks = 95\n",
    "marks_obtained = (english_marks + islamyat_marks + math_marks) \n",
    "percentage = (marks_obtained)/total_marks * 100\n",
    "print(\"Total Marks\",total_marks, \"Marks Obtained\", marks_obtained,\"Percentage\", percentage, \"%\")"
   ]
  },
  {
   "cell_type": "code",
   "execution_count": 18,
   "id": "0fe30330",
   "metadata": {},
   "outputs": [
    {
     "name": "stdout",
     "output_type": "stream",
     "text": [
      "Grade A+ Total Marks 300 Marks Obtained 255 Percentage 85.0 %\n"
     ]
    }
   ],
   "source": [
    "total_marks = 300\n",
    "english_marks = 78\n",
    "islamyat_marks = 82\n",
    "math_marks = 95\n",
    "marks_obtained = (english_marks + islamyat_marks + math_marks) \n",
    "percentage = (marks_obtained)/total_marks * 100\n",
    "if percentage < 100 and percentage > 80:\n",
    "    print(\"Grade A+\", \"Total Marks\",total_marks, \"Marks Obtained\", marks_obtained,\"Percentage\", percentage, \"%\");\n",
    "elif percentage < 80 and percentage > 70:\n",
    "    print(\"Grade A\", \"Total Marks\",total_marks, \"Marks Obtained\", marks_obtained,\"Percentage\", percentage, \"%\");\n",
    "elif percentage < 70 and percentage > 60:\n",
    "    print(\"Grade B\", \"Total Marks\",total_marks, \"Marks Obtained\", marks_obtained,\"Percentage\", percentage, \"%\");\n",
    "elif percentage < 60 and percentage > 50:\n",
    "    print(\"Grade C\", \"Total Marks\",total_marks, \"Marks Obtained\", marks_obtained,\"Percentage\", percentage, \"%\");\n",
    "elif percentage < 50 and percentage > 40:\n",
    "    print(\"Grade D\", \"Total Marks\",total_marks, \"Marks Obtained\", marks_obtained,\"Percentage\", percentage, \"%\");\n",
    "elif percentage < 40 and percentage > 33:\n",
    "    print(\"Grade E\", \"Total Marks\",total_marks, \"Marks Obtained\", marks_obtained,\"Percentage\", percentage, \"%\");\n",
    "else:\n",
    "    print(\"Fail\", \"Total Marks\",total_marks, \"Marks Obtained\", marks_obtained,\"Percentage\", percentage, \"%\");"
   ]
  },
  {
   "cell_type": "code",
   "execution_count": 19,
   "id": "19f71732",
   "metadata": {},
   "outputs": [
    {
     "name": "stdout",
     "output_type": "stream",
     "text": [
      "Grade A Total Marks 300 Marks Obtained 230 Percentage 76.66666666666667 %\n"
     ]
    }
   ],
   "source": [
    "total_marks = 300\n",
    "english_marks = 70\n",
    "islamyat_marks = 75\n",
    "math_marks = 85\n",
    "marks_obtained = (english_marks + islamyat_marks + math_marks) \n",
    "percentage = (marks_obtained)/total_marks * 100\n",
    "if percentage < 100 and percentage > 80:\n",
    "    print(\"Grade A+\", \"Total Marks\",total_marks, \"Marks Obtained\", marks_obtained,\"Percentage\", percentage, \"%\");\n",
    "elif percentage < 80 and percentage > 70:\n",
    "    print(\"Grade A\", \"Total Marks\",total_marks, \"Marks Obtained\", marks_obtained,\"Percentage\", percentage, \"%\");\n",
    "elif percentage < 70 and percentage > 60:\n",
    "    print(\"Grade B\", \"Total Marks\",total_marks, \"Marks Obtained\", marks_obtained,\"Percentage\", percentage, \"%\");\n",
    "elif percentage < 60 and percentage > 50:\n",
    "    print(\"Grade C\", \"Total Marks\",total_marks, \"Marks Obtained\", marks_obtained,\"Percentage\", percentage, \"%\");\n",
    "elif percentage < 50 and percentage > 40:\n",
    "    print(\"Grade D\", \"Total Marks\",total_marks, \"Marks Obtained\", marks_obtained,\"Percentage\", percentage, \"%\");\n",
    "elif percentage < 40 and percentage > 33:\n",
    "    print(\"Grade E\", \"Total Marks\",total_marks, \"Marks Obtained\", marks_obtained,\"Percentage\", percentage, \"%\");\n",
    "else:\n",
    "    print(\"Fail\", \"Total Marks\",total_marks, \"Marks Obtained\", marks_obtained,\"Percentage\", percentage, \"%\");\n",
    "\n"
   ]
  },
  {
   "cell_type": "code",
   "execution_count": 20,
   "id": "5db28aff",
   "metadata": {},
   "outputs": [
    {
     "name": "stdout",
     "output_type": "stream",
     "text": [
      "Grade B Total Marks 300 Marks Obtained 195 Percentage 65.0 %\n"
     ]
    }
   ],
   "source": [
    "total_marks = 300\n",
    "english_marks = 65\n",
    "islamyat_marks = 62\n",
    "math_marks = 68\n",
    "marks_obtained = (english_marks + islamyat_marks + math_marks) \n",
    "percentage = (marks_obtained)/total_marks * 100\n",
    "if percentage < 100 and percentage > 80:\n",
    "    print(\"Grade A+\", \"Total Marks\",total_marks, \"Marks Obtained\", marks_obtained,\"Percentage\", percentage, \"%\");\n",
    "elif percentage < 80 and percentage > 70:\n",
    "    print(\"Grade A\", \"Total Marks\",total_marks, \"Marks Obtained\", marks_obtained,\"Percentage\", percentage, \"%\");\n",
    "elif percentage < 70 and percentage > 60:\n",
    "    print(\"Grade B\", \"Total Marks\",total_marks, \"Marks Obtained\", marks_obtained,\"Percentage\", percentage, \"%\");\n",
    "elif percentage < 60 and percentage > 50:\n",
    "    print(\"Grade C\", \"Total Marks\",total_marks, \"Marks Obtained\", marks_obtained,\"Percentage\", percentage, \"%\");\n",
    "elif percentage < 50 and percentage > 40:\n",
    "    print(\"Grade D\", \"Total Marks\",total_marks, \"Marks Obtained\", marks_obtained,\"Percentage\", percentage, \"%\");\n",
    "elif percentage < 40 and percentage > 33:\n",
    "    print(\"Grade E\", \"Total Marks\",total_marks, \"Marks Obtained\", marks_obtained,\"Percentage\", percentage, \"%\");\n",
    "else:\n",
    "    print(\"Fail\", \"Total Marks\",total_marks, \"Marks Obtained\", marks_obtained,\"Percentage\", percentage, \"%\");"
   ]
  },
  {
   "cell_type": "code",
   "execution_count": 21,
   "id": "e8f7e386",
   "metadata": {},
   "outputs": [
    {
     "name": "stdout",
     "output_type": "stream",
     "text": [
      "Grade C Total Marks 300 Marks Obtained 165 Percentage 55.00000000000001 %\n"
     ]
    }
   ],
   "source": [
    "total_marks = 300\n",
    "english_marks = 55\n",
    "islamyat_marks = 52\n",
    "math_marks = 58\n",
    "marks_obtained = (english_marks + islamyat_marks + math_marks) \n",
    "percentage = (marks_obtained)/total_marks * 100\n",
    "if percentage < 100 and percentage > 80:\n",
    "    print(\"Grade A+\", \"Total Marks\",total_marks, \"Marks Obtained\", marks_obtained,\"Percentage\", percentage, \"%\");\n",
    "elif percentage < 80 and percentage > 70:\n",
    "    print(\"Grade A\", \"Total Marks\",total_marks, \"Marks Obtained\", marks_obtained,\"Percentage\", percentage, \"%\");\n",
    "elif percentage < 70 and percentage > 60:\n",
    "    print(\"Grade B\", \"Total Marks\",total_marks, \"Marks Obtained\", marks_obtained,\"Percentage\", percentage, \"%\");\n",
    "elif percentage < 60 and percentage > 50:\n",
    "    print(\"Grade C\", \"Total Marks\",total_marks, \"Marks Obtained\", marks_obtained,\"Percentage\", percentage, \"%\");\n",
    "elif percentage < 50 and percentage > 40:\n",
    "    print(\"Grade D\", \"Total Marks\",total_marks, \"Marks Obtained\", marks_obtained,\"Percentage\", percentage, \"%\");\n",
    "elif percentage < 40 and percentage > 33:\n",
    "    print(\"Grade E\", \"Total Marks\",total_marks, \"Marks Obtained\", marks_obtained,\"Percentage\", percentage, \"%\");\n",
    "else:\n",
    "    print(\"Fail\", \"Total Marks\",total_marks, \"Marks Obtained\", marks_obtained,\"Percentage\", percentage, \"%\");"
   ]
  },
  {
   "cell_type": "code",
   "execution_count": 22,
   "id": "53dafb1b",
   "metadata": {},
   "outputs": [
    {
     "name": "stdout",
     "output_type": "stream",
     "text": [
      "Grade D Total Marks 300 Marks Obtained 135 Percentage 45.0 %\n"
     ]
    }
   ],
   "source": [
    "total_marks = 300\n",
    "english_marks = 45\n",
    "islamyat_marks = 42\n",
    "math_marks = 48\n",
    "marks_obtained = (english_marks + islamyat_marks + math_marks) \n",
    "percentage = (marks_obtained)/total_marks * 100\n",
    "if percentage < 100 and percentage > 80:\n",
    "    print(\"Grade A+\", \"Total Marks\",total_marks, \"Marks Obtained\", marks_obtained,\"Percentage\", percentage, \"%\");\n",
    "elif percentage < 80 and percentage > 70:\n",
    "    print(\"Grade A\", \"Total Marks\",total_marks, \"Marks Obtained\", marks_obtained,\"Percentage\", percentage, \"%\");\n",
    "elif percentage < 70 and percentage > 60:\n",
    "    print(\"Grade B\", \"Total Marks\",total_marks, \"Marks Obtained\", marks_obtained,\"Percentage\", percentage, \"%\");\n",
    "elif percentage < 60 and percentage > 50:\n",
    "    print(\"Grade C\", \"Total Marks\",total_marks, \"Marks Obtained\", marks_obtained,\"Percentage\", percentage, \"%\");\n",
    "elif percentage < 50 and percentage > 40:\n",
    "    print(\"Grade D\", \"Total Marks\",total_marks, \"Marks Obtained\", marks_obtained,\"Percentage\", percentage, \"%\");\n",
    "elif percentage < 40 and percentage > 33:\n",
    "    print(\"Grade E\", \"Total Marks\",total_marks, \"Marks Obtained\", marks_obtained,\"Percentage\", percentage, \"%\");\n",
    "else:\n",
    "    print(\"Fail\", \"Total Marks\",total_marks, \"Marks Obtained\", marks_obtained,\"Percentage\", percentage, \"%\");"
   ]
  },
  {
   "cell_type": "code",
   "execution_count": 23,
   "id": "29d7c448",
   "metadata": {},
   "outputs": [
    {
     "name": "stdout",
     "output_type": "stream",
     "text": [
      "Grade E Total Marks 300 Marks Obtained 106 Percentage 35.333333333333336 %\n"
     ]
    }
   ],
   "source": [
    "total_marks = 300\n",
    "english_marks = 35\n",
    "islamyat_marks = 33\n",
    "math_marks = 38\n",
    "marks_obtained = (english_marks + islamyat_marks + math_marks) \n",
    "percentage = (marks_obtained)/total_marks * 100\n",
    "if percentage < 100 and percentage > 80:\n",
    "    print(\"Grade A+\", \"Total Marks\",total_marks, \"Marks Obtained\", marks_obtained,\"Percentage\", percentage, \"%\");\n",
    "elif percentage < 80 and percentage > 70:\n",
    "    print(\"Grade A\", \"Total Marks\",total_marks, \"Marks Obtained\", marks_obtained,\"Percentage\", percentage, \"%\");\n",
    "elif percentage < 70 and percentage > 60:\n",
    "    print(\"Grade B\", \"Total Marks\",total_marks, \"Marks Obtained\", marks_obtained,\"Percentage\", percentage, \"%\");\n",
    "elif percentage < 60 and percentage > 50:\n",
    "    print(\"Grade C\", \"Total Marks\",total_marks, \"Marks Obtained\", marks_obtained,\"Percentage\", percentage, \"%\");\n",
    "elif percentage < 50 and percentage > 40:\n",
    "    print(\"Grade D\", \"Total Marks\",total_marks, \"Marks Obtained\", marks_obtained,\"Percentage\", percentage, \"%\");\n",
    "elif percentage < 40 and percentage > 33:\n",
    "    print(\"Grade E\", \"Total Marks\",total_marks, \"Marks Obtained\", marks_obtained,\"Percentage\", percentage, \"%\");\n",
    "else:\n",
    "    print(\"Fail\", \"Total Marks\",total_marks, \"Marks Obtained\", marks_obtained,\"Percentage\", percentage, \"%\");"
   ]
  },
  {
   "cell_type": "code",
   "execution_count": 24,
   "id": "faec5e0a",
   "metadata": {},
   "outputs": [
    {
     "name": "stdout",
     "output_type": "stream",
     "text": [
      "Fail Total Marks 300 Marks Obtained 85 Percentage 28.333333333333332 %\n"
     ]
    }
   ],
   "source": [
    "total_marks = 300\n",
    "english_marks = 25\n",
    "islamyat_marks = 32\n",
    "math_marks = 28\n",
    "marks_obtained = (english_marks + islamyat_marks + math_marks) \n",
    "percentage = (marks_obtained)/total_marks * 100\n",
    "if percentage < 100 and percentage > 80:\n",
    "    print(\"Grade A+\", \"Total Marks\",total_marks, \"Marks Obtained\", marks_obtained,\"Percentage\", percentage, \"%\");\n",
    "elif percentage < 80 and percentage > 70:\n",
    "    print(\"Grade A\", \"Total Marks\",total_marks, \"Marks Obtained\", marks_obtained,\"Percentage\", percentage, \"%\");\n",
    "elif percentage < 70 and percentage > 60:\n",
    "    print(\"Grade B\", \"Total Marks\",total_marks, \"Marks Obtained\", marks_obtained,\"Percentage\", percentage, \"%\");\n",
    "elif percentage < 60 and percentage > 50:\n",
    "    print(\"Grade C\", \"Total Marks\",total_marks, \"Marks Obtained\", marks_obtained,\"Percentage\", percentage, \"%\");\n",
    "elif percentage < 50 and percentage > 40:\n",
    "    print(\"Grade D\", \"Total Marks\",total_marks, \"Marks Obtained\", marks_obtained,\"Percentage\", percentage, \"%\");\n",
    "elif percentage < 40 and percentage > 33:\n",
    "    print(\"Grade E\", \"Total Marks\",total_marks, \"Marks Obtained\", marks_obtained,\"Percentage\", percentage, \"%\");\n",
    "else:\n",
    "    print(\"Fail\", \"Total Marks\",total_marks, \"Marks Obtained\", marks_obtained,\"Percentage\", percentage, \"%\");"
   ]
  },
  {
   "cell_type": "code",
   "execution_count": null,
   "id": "589cbf46",
   "metadata": {},
   "outputs": [],
   "source": []
  }
 ],
 "metadata": {
  "kernelspec": {
   "display_name": "Python 3",
   "language": "python",
   "name": "python3"
  },
  "language_info": {
   "codemirror_mode": {
    "name": "ipython",
    "version": 3
   },
   "file_extension": ".py",
   "mimetype": "text/x-python",
   "name": "python",
   "nbconvert_exporter": "python",
   "pygments_lexer": "ipython3",
   "version": "3.8.8"
  }
 },
 "nbformat": 4,
 "nbformat_minor": 5
}
