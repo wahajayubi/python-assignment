{
 "cells": [
  {
   "cell_type": "code",
   "execution_count": 5,
   "id": "3042de7f",
   "metadata": {},
   "outputs": [
    {
     "name": "stdout",
     "output_type": "stream",
     "text": [
      "Twinkle, twinkle, little star,\n",
      "        How I wonder, what you are!\n",
      "              Up above the world so high,\n",
      "              Like as diamond in the sky.\n",
      "Twinkle, twinkle, little star,\n",
      "        How I wonder, what you are\n"
     ]
    }
   ],
   "source": [
    "\"\"\"1.)Write a Python program to print the following string in a specific format (see the \n",
    "output).\"\"\"\n",
    "# Twinkle, twinkle, little star, \n",
    "#         How I wonder what you are! \n",
    "#               Up above the world so high, \n",
    "#               Like a diamond in the sky. \n",
    "# Twinkle, twinkle, little star, \n",
    "#         How I wonder what you are\"\"\"\n",
    "\n",
    "poem = \"Twinkle, twinkle, little star,\"; \n",
    "poem1 = \"        How I wonder, what you are!\";\n",
    "poem2 = \"              Up above the world so high,\";\n",
    "poem3 = \"              Like as diamond in the sky.\";\n",
    "poem4 = \"        How I wonder, what you are\";\n",
    "print(poem);\n",
    "print(poem1);\n",
    "print(poem2);\n",
    "print(poem3);\n",
    "print(poem);\n",
    "print(poem4);\n"
   ]
  },
  {
   "cell_type": "code",
   "execution_count": 3,
   "id": "6ad5d60b",
   "metadata": {},
   "outputs": [
    {
     "name": "stdout",
     "output_type": "stream",
     "text": [
      "3.8.8 (default, Apr 13 2021, 15:08:03) [MSC v.1916 64 bit (AMD64)]\n"
     ]
    }
   ],
   "source": [
    "# 2.)Write a Python program to get the Python version you are using \n",
    "import sys;\n",
    "print(sys.version);"
   ]
  },
  {
   "cell_type": "code",
   "execution_count": 6,
   "id": "c774bdf1",
   "metadata": {},
   "outputs": [
    {
     "name": "stdout",
     "output_type": "stream",
     "text": [
      "2021-10-23 11:42:58.945575\n"
     ]
    }
   ],
   "source": [
    "# 3.)Write a Python program to display the current date and time. \n",
    "import datetime;\n",
    "current_date_and_time = datetime.datetime.now();\n",
    "print(current_date_and_time);\n"
   ]
  },
  {
   "cell_type": "code",
   "execution_count": 7,
   "id": "86700b35",
   "metadata": {},
   "outputs": [
    {
     "name": "stdout",
     "output_type": "stream",
     "text": [
      "Radius of a Circle9\n",
      "254.57142857142858\n"
     ]
    }
   ],
   "source": [
    "\"\"\"4.)Write a Python program which accepts the radius of a circle from the user and compute \n",
    "the area.\"\"\" \n",
    "radius = int(input(\"Radius of a Circle\"));\n",
    "area_of_a_circle = radius*radius*22/7\n",
    "print(area_of_a_circle);"
   ]
  },
  {
   "cell_type": "code",
   "execution_count": 2,
   "id": "a235bcc2",
   "metadata": {},
   "outputs": [
    {
     "name": "stdout",
     "output_type": "stream",
     "text": [
      "First NameWahaj\n",
      "Last NameKhan\n",
      "n a h K   j a h a W\n"
     ]
    }
   ],
   "source": [
    "\"\"\"5.)Write a Python program which accepts the user's first and last name and print them in \n",
    "reverse order with a space between them.\"\"\"\n",
    "first_name = input(\"First Name\");\n",
    "last_name = input(\"Last Name\");\n",
    "\"\"\"Conversion of first_name and last_name into list\n",
    "and reversing the output by using reversed function\"\"\"\n",
    "name =list (reversed(first_name +\" \"+ last_name));\n",
    "# conversion of list to string\n",
    "reverse_name=' '.join(map(str,name))\n",
    "\"\"\"Both the above functions have not been covered\n",
    "in the class therefore help was seeked through internet\"\"\"\n",
    "print(reverse_name);\n"
   ]
  },
  {
   "cell_type": "code",
   "execution_count": 10,
   "id": "eb417844",
   "metadata": {},
   "outputs": [
    {
     "name": "stdout",
     "output_type": "stream",
     "text": [
      "First Number52\n",
      "Second Number62\n",
      "114\n"
     ]
    }
   ],
   "source": [
    "# 6.)Write a python program which takes two inputs from user and print them addition \n",
    "x = int(input(\"First Number\"));\n",
    "y = int(input(\"Second Number\"));\n",
    "z = x + y;\n",
    "print(z);"
   ]
  },
  {
   "cell_type": "code",
   "execution_count": 19,
   "id": "6f9c37a0",
   "metadata": {},
   "outputs": [
    {
     "name": "stdout",
     "output_type": "stream",
     "text": [
      "English65\n",
      "Islamyat68\n",
      "Math45\n",
      "Science53\n",
      "Computer34\n",
      "Grade C Total Marks 500 Marks Obtained 265 Percentage 53.0 %\n"
     ]
    }
   ],
   "source": [
    "\"\"\"7.)Write a program which takes 5 inputs from user for different subject’s marks, total it \n",
    "and generate mark sheet using grades ? \"\"\"\n",
    "\n",
    "total_marks = 500\n",
    "english_marks = int(input (\"English\"));            \n",
    "islamyat_marks = int(input(\"Islamyat\"));\n",
    "math_marks = int(input(\"Math\"));\n",
    "science_marks = int(input(\"Science\"));\n",
    "computer_marks = int(input(\"Computer\"));                    \n",
    "marks_obtained = (english_marks + islamyat_marks + math_marks + science_marks + computer_marks); \n",
    "percentage = (marks_obtained)/total_marks * 100\n",
    "if percentage <= 100 and percentage > 80:\n",
    "    print(\"Grade A+\", \"Total Marks\",total_marks, \"Marks Obtained\", marks_obtained,\"Percentage\", percentage, \"%\");\n",
    "elif percentage <= 80 and percentage > 70:\n",
    "    print(\"Grade A\", \"Total Marks\",total_marks, \"Marks Obtained\", marks_obtained,\"Percentage\", percentage, \"%\");\n",
    "elif percentage <= 70 and percentage > 60:\n",
    "    print(\"Grade B\", \"Total Marks\",total_marks, \"Marks Obtained\", marks_obtained,\"Percentage\", percentage, \"%\");\n",
    "elif percentage <= 60 and percentage > 50:\n",
    "    print(\"Grade C\", \"Total Marks\",total_marks, \"Marks Obtained\", marks_obtained,\"Percentage\", percentage, \"%\");\n",
    "elif percentage <= 50 and percentage > 40:\n",
    "    print(\"Grade D\", \"Total Marks\",total_marks, \"Marks Obtained\", marks_obtained,\"Percentage\", percentage, \"%\");\n",
    "elif percentage <= 40 and percentage > 33:\n",
    "    print(\"Grade E\", \"Total Marks\",total_marks, \"Marks Obtained\", marks_obtained,\"Percentage\", percentage, \"%\");\n",
    "else:\n",
    "    print(\"Fail\", \"Total Marks\",total_marks, \"Marks Obtained\", marks_obtained,\"Percentage\", percentage, \"%\");"
   ]
  },
  {
   "cell_type": "code",
   "execution_count": 21,
   "id": "07551958",
   "metadata": {},
   "outputs": [
    {
     "name": "stdout",
     "output_type": "stream",
     "text": [
      "Enter Number989\n",
      "Odd\n"
     ]
    }
   ],
   "source": [
    "\"\"\"8.)Write a program which take input from user and identify that the given number is even \n",
    "or odd? \"\"\"\n",
    "x = int(input(\"Enter Number\"));\n",
    "y = x%2\n",
    "if y ==0:\n",
    "    print(\"Even\");\n",
    "else:\n",
    "    print(\"Odd\")"
   ]
  },
  {
   "cell_type": "code",
   "execution_count": 13,
   "id": "f180b509",
   "metadata": {},
   "outputs": [
    {
     "name": "stdout",
     "output_type": "stream",
     "text": [
      "7\n"
     ]
    }
   ],
   "source": [
    "# 9.)Write a program which print the length of the list?\n",
    "x = [6,8,9,3,2,1,0];\n",
    "y = len(x);\n",
    "print(y);"
   ]
  },
  {
   "cell_type": "code",
   "execution_count": 15,
   "id": "a37f2021",
   "metadata": {},
   "outputs": [
    {
     "name": "stdout",
     "output_type": "stream",
     "text": [
      "38\n"
     ]
    }
   ],
   "source": [
    "# 10.)Write a Python program to sum all the numeric items in a list?\n",
    "list = [\"Wahaj\",2,\"Book\",8,28,\"Nadeem\"];\n",
    "list.remove(\"Wahaj\");\n",
    "list.remove(\"Book\");\n",
    "list.remove(\"Nadeem\");\n",
    "print(sum(list));"
   ]
  },
  {
   "cell_type": "code",
   "execution_count": 4,
   "id": "8a20d702",
   "metadata": {},
   "outputs": [
    {
     "name": "stdout",
     "output_type": "stream",
     "text": [
      "9872\n"
     ]
    }
   ],
   "source": [
    "# 11.)Write a Python program to get the largest number from a numeric list. \n",
    "x = [65,962,1562,9872,35];\n",
    "print(max(x));\n"
   ]
  },
  {
   "cell_type": "code",
   "execution_count": 5,
   "id": "c0c0e3fc",
   "metadata": {},
   "outputs": [
    {
     "name": "stdout",
     "output_type": "stream",
     "text": [
      "1\n",
      "1\n",
      "2\n",
      "3\n"
     ]
    }
   ],
   "source": [
    "# Take a list, say for example this one: \n",
    "# a = [1, 1, 2, 3, 5, 8, 13, 21, 34, 55, 89] \n",
    "# Write a program that prints out all the elements of the list that are less than 5.\n",
    "a = [1, 1, 2, 3, 5, 8, 13, 21, 34, 55, 89]\n",
    "for x in a:\n",
    "    if x < 5:\n",
    "        print(x);"
   ]
  },
  {
   "cell_type": "code",
   "execution_count": null,
   "id": "e406a55d",
   "metadata": {},
   "outputs": [],
   "source": []
  }
 ],
 "metadata": {
  "kernelspec": {
   "display_name": "Python 3",
   "language": "python",
   "name": "python3"
  },
  "language_info": {
   "codemirror_mode": {
    "name": "ipython",
    "version": 3
   },
   "file_extension": ".py",
   "mimetype": "text/x-python",
   "name": "python",
   "nbconvert_exporter": "python",
   "pygments_lexer": "ipython3",
   "version": "3.8.8"
  }
 },
 "nbformat": 4,
 "nbformat_minor": 5
}
